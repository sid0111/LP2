{
 "cells": [
  {
   "cell_type": "code",
   "execution_count": 1,
   "id": "69761f0a-b680-448a-8b02-c4b36f215ce4",
   "metadata": {},
   "outputs": [
    {
     "name": "stdout",
     "output_type": "stream",
     "text": [
      "Pass 0  [1, 4, 2, 3]\n",
      "Pass 1  [1, 2, 4, 3]\n",
      "Pass 2  [1, 2, 3, 4]\n",
      "[1, 2, 3, 4]\n"
     ]
    }
   ],
   "source": [
    "def selectionsort(arr):\n",
    "    n = len(arr)\n",
    "    for i in range(n-1):\n",
    "        min = i\n",
    "        for j in range(i+1,n):\n",
    "            if arr[j] < arr[min]:\n",
    "                min = j\n",
    "        arr[i], arr[min] = arr[min], arr[i]\n",
    "        print (f\"Pass {i }  {arr}\")\n",
    "    return arr\n",
    "\n",
    "print(selectionsort([3, 4, 2, 1]))"
   ]
  },
  {
   "cell_type": "code",
   "execution_count": null,
   "id": "13556102-0e7a-40c0-a45f-c73e8feb6653",
   "metadata": {},
   "outputs": [],
   "source": []
  }
 ],
 "metadata": {
  "kernelspec": {
   "display_name": "Python 3 (ipykernel)",
   "language": "python",
   "name": "python3"
  },
  "language_info": {
   "codemirror_mode": {
    "name": "ipython",
    "version": 3
   },
   "file_extension": ".py",
   "mimetype": "text/x-python",
   "name": "python",
   "nbconvert_exporter": "python",
   "pygments_lexer": "ipython3",
   "version": "3.12.3"
  }
 },
 "nbformat": 4,
 "nbformat_minor": 5
}
